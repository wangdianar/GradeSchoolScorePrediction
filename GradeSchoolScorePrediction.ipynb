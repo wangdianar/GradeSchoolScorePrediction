{
  "nbformat": 4,
  "nbformat_minor": 0,
  "metadata": {
    "colab": {
      "name": "GradeSchoolScorePrediction",
      "provenance": [],
      "collapsed_sections": [
        "_5doY_C14D43",
        "x1ormXBYJCT_"
      ],
      "toc_visible": true
    },
    "kernelspec": {
      "display_name": "Python 3",
      "name": "python3"
    },
    "language_info": {
      "name": "python"
    }
  },
  "cells": [
    {
      "cell_type": "markdown",
      "metadata": {
        "id": "BlZHdMx6sFkN"
      },
      "source": [
        "# **Predicting Scores for Grade Schoolers**\n",
        "\n",
        "The district school board is considering implementing an Emperimental Method of math-teaching in its schools. To test the efficacy of Experimental Method, students from 23 schools in the district were tested at the beginning and end of a school year. Entire classrooms were randomly assigned as either the control or the experimental group, with the experimental group being instructed under Experimental Method for the entire school year. \n",
        "\n",
        "<br>\n",
        "\n",
        "---\n",
        "\n",
        "<br>\n",
        "\n",
        "The purpose of this study is to assess Experimental Method's ability to increase student testing performances after a year of instruction.\n",
        "\n",
        "Amongst students instructed under Experimental Method, We will also examine how other variables may affect its ability to improve test scores.\n",
        "\n",
        "\n",
        "\n",
        "<br>\n",
        "\n",
        "\n",
        "\n",
        "The insights from these observations will enable us to decide if Experimental Method is worth implementing in the district based on its ability to improve test scores. We may also decide whether implementation should target particular student groups.\n",
        "\n",
        "<br>\n",
        "\n",
        "---\n",
        "\n",
        "<br>\n",
        "\n",
        "### **Independent Variable:**\n",
        "\n",
        "Student Level:\n",
        "\n",
        "*   Post-year-test score (**posttest**): *0 - 100*\n",
        "\n",
        "<br>\n",
        "\n",
        "### **Dependent variables:**\n",
        "\n",
        "School level:\n",
        "\n",
        "*   School setting (**school_setting**): *Urban, Suburban, Rural*\n",
        "\n",
        "*   School type (**school_type**): *Public, Non-public*\n",
        "\n",
        "Classroom level:\n",
        "\n",
        "*   Teaching method (**teaching_method**): *Standard, Experimental*\n",
        "\n",
        "*   Number of students in the classroom (**n_student**): *Integer*\n",
        "\n",
        "Student level:\n",
        "\n",
        "*   Gender (**gender**): *Male, Female*\n",
        "  \n",
        "*   Reduced/Free lunch (**lunch**): *Qualifies, Does not qualify*\n",
        "\n",
        "*   Pre-year-test score (**pretest**): *0 - 100*\n",
        "\n",
        "<br>\n",
        "\n",
        "---\n",
        "\n",
        "<br>\n",
        "\n",
        "### **The analysis below will examine the following hypotheses:**\n",
        "\n",
        "1.   **There is no significant difference in test score improvement (μ = score_improvement) based on the teaching method (Standard vs. Experimental Method).**\n",
        "\n",
        "  Ho: μ1 - μ2 = 0\n",
        "\n",
        "  Ha: μ1 - μ2 ≠ 0\n",
        "\n",
        "2.   **Amongst the experimental group, there is no difference in est score improvement (μ = score_improvement) based on dependent variables.**\n",
        "\n",
        "  Ho: μ1 - μ2 = 0\n",
        "\n",
        "  Ha: μ1 - μ2 ≠ 0\n",
        "\n",
        "  <br>\n",
        "\n",
        "---\n",
        "\n",
        "<br>\n",
        "\n",
        "**Dataset Source:**\n",
        "\n",
        "https://www.kaggle.com/kwadwoofosu/predict-test-scores-of-students\n",
        "\n",
        "**More context on dataset:**\n",
        "\n",
        "https://www.ibm.com/docs/en/spss-statistics/24.0.0?topic=models-analyzing-test-scores-generalized-linear-mixed\n",
        "\n",
        "\n",
        "\n"
      ]
    },
    {
      "cell_type": "markdown",
      "metadata": {
        "id": "_5doY_C14D43"
      },
      "source": [
        "## **Importing Libraries, Dataset**"
      ]
    },
    {
      "cell_type": "code",
      "metadata": {
        "colab": {
          "base_uri": "https://localhost:8080/"
        },
        "id": "HXS8GBRRrgQf",
        "outputId": "fdf6fd93-15fb-4b9a-d20b-8c1b09496d61"
      },
      "source": [
        "# import libraries\n",
        "import pandas as pd\n",
        "import numpy as np\n",
        "from scipy import stats\n",
        "import seaborn as sns; sns.set()\n",
        "\n",
        "import matplotlib.pyplot as plt\n",
        "import math\n",
        "\n",
        "# suppress warnings (warnings do not prevent the code from executing)\n",
        "import warnings\n",
        "warnings.filterwarnings(\"ignore\")\n",
        "\n",
        "# Mount Google Drive\n",
        "from google.colab import drive\n",
        "drive.mount('/content/gdrive')\n",
        "\n",
        "# Import dataset\n",
        "df = pd.read_csv('/content/gdrive/My Drive/Colab Datasets/test_scores.csv', delimiter=',')"
      ],
      "execution_count": null,
      "outputs": [
        {
          "output_type": "stream",
          "text": [
            "Drive already mounted at /content/gdrive; to attempt to forcibly remount, call drive.mount(\"/content/gdrive\", force_remount=True).\n"
          ],
          "name": "stdout"
        }
      ]
    },
    {
      "cell_type": "markdown",
      "metadata": {
        "id": "rPfmpIeH9HVG"
      },
      "source": [
        "## **Preview/Cleaning Dataset**"
      ]
    },
    {
      "cell_type": "code",
      "metadata": {
        "colab": {
          "base_uri": "https://localhost:8080/"
        },
        "id": "G1JAgIPQG523",
        "outputId": "450feeae-9589-4a3e-d3c9-993db0711365"
      },
      "source": [
        "# Dataset Summary\n",
        "df.info()"
      ],
      "execution_count": null,
      "outputs": [
        {
          "output_type": "stream",
          "text": [
            "<class 'pandas.core.frame.DataFrame'>\n",
            "RangeIndex: 2133 entries, 0 to 2132\n",
            "Data columns (total 11 columns):\n",
            " #   Column           Non-Null Count  Dtype  \n",
            "---  ------           --------------  -----  \n",
            " 0   school           2133 non-null   object \n",
            " 1   school_setting   2133 non-null   object \n",
            " 2   school_type      2133 non-null   object \n",
            " 3   classroom        2133 non-null   object \n",
            " 4   teaching_method  2133 non-null   object \n",
            " 5   n_student        2133 non-null   float64\n",
            " 6   student_id       2133 non-null   object \n",
            " 7   gender           2133 non-null   object \n",
            " 8   lunch            2133 non-null   object \n",
            " 9   pretest          2133 non-null   float64\n",
            " 10  posttest         2133 non-null   float64\n",
            "dtypes: float64(3), object(8)\n",
            "memory usage: 183.4+ KB\n"
          ],
          "name": "stdout"
        }
      ]
    },
    {
      "cell_type": "code",
      "metadata": {
        "id": "2vJv4j_RMoWn",
        "colab": {
          "base_uri": "https://localhost:8080/",
          "height": 108
        },
        "outputId": "f1024e08-cd8f-4934-e717-1ff2a1334bcb"
      },
      "source": [
        "# Removing Columns\n",
        "concise_df = df.drop([\"school\"], axis=1)\n",
        "concise_df = concise_df.drop([\"classroom\"], axis=1)\n",
        "concise_df = concise_df.drop([\"student_id\"], axis=1)\n",
        "\n",
        "# Establishing new variable \"score_improvement\"\n",
        "concise_df = concise_df.assign(score_improvement = (concise_df.posttest - concise_df.pretest))\n",
        "concise_df.head(2)"
      ],
      "execution_count": null,
      "outputs": [
        {
          "output_type": "execute_result",
          "data": {
            "text/html": [
              "<div>\n",
              "<style scoped>\n",
              "    .dataframe tbody tr th:only-of-type {\n",
              "        vertical-align: middle;\n",
              "    }\n",
              "\n",
              "    .dataframe tbody tr th {\n",
              "        vertical-align: top;\n",
              "    }\n",
              "\n",
              "    .dataframe thead th {\n",
              "        text-align: right;\n",
              "    }\n",
              "</style>\n",
              "<table border=\"1\" class=\"dataframe\">\n",
              "  <thead>\n",
              "    <tr style=\"text-align: right;\">\n",
              "      <th></th>\n",
              "      <th>school_setting</th>\n",
              "      <th>school_type</th>\n",
              "      <th>teaching_method</th>\n",
              "      <th>n_student</th>\n",
              "      <th>gender</th>\n",
              "      <th>lunch</th>\n",
              "      <th>pretest</th>\n",
              "      <th>posttest</th>\n",
              "      <th>score_improvement</th>\n",
              "    </tr>\n",
              "  </thead>\n",
              "  <tbody>\n",
              "    <tr>\n",
              "      <th>0</th>\n",
              "      <td>Urban</td>\n",
              "      <td>Non-public</td>\n",
              "      <td>Standard</td>\n",
              "      <td>20.0</td>\n",
              "      <td>Female</td>\n",
              "      <td>Does not qualify</td>\n",
              "      <td>62.0</td>\n",
              "      <td>72.0</td>\n",
              "      <td>10.0</td>\n",
              "    </tr>\n",
              "    <tr>\n",
              "      <th>1</th>\n",
              "      <td>Urban</td>\n",
              "      <td>Non-public</td>\n",
              "      <td>Standard</td>\n",
              "      <td>20.0</td>\n",
              "      <td>Female</td>\n",
              "      <td>Does not qualify</td>\n",
              "      <td>66.0</td>\n",
              "      <td>79.0</td>\n",
              "      <td>13.0</td>\n",
              "    </tr>\n",
              "  </tbody>\n",
              "</table>\n",
              "</div>"
            ],
            "text/plain": [
              "  school_setting school_type  ... posttest  score_improvement\n",
              "0          Urban  Non-public  ...     72.0               10.0\n",
              "1          Urban  Non-public  ...     79.0               13.0\n",
              "\n",
              "[2 rows x 9 columns]"
            ]
          },
          "metadata": {
            "tags": []
          },
          "execution_count": 3
        }
      ]
    },
    {
      "cell_type": "code",
      "metadata": {
        "id": "ZseW0wpW8s2S",
        "colab": {
          "base_uri": "https://localhost:8080/",
          "height": 108
        },
        "outputId": "5b649b89-ffef-41c5-a604-a5a2cedf862b"
      },
      "source": [
        "# Preview Table\n",
        "concise_df.head(2)"
      ],
      "execution_count": null,
      "outputs": [
        {
          "output_type": "execute_result",
          "data": {
            "text/html": [
              "<div>\n",
              "<style scoped>\n",
              "    .dataframe tbody tr th:only-of-type {\n",
              "        vertical-align: middle;\n",
              "    }\n",
              "\n",
              "    .dataframe tbody tr th {\n",
              "        vertical-align: top;\n",
              "    }\n",
              "\n",
              "    .dataframe thead th {\n",
              "        text-align: right;\n",
              "    }\n",
              "</style>\n",
              "<table border=\"1\" class=\"dataframe\">\n",
              "  <thead>\n",
              "    <tr style=\"text-align: right;\">\n",
              "      <th></th>\n",
              "      <th>school_setting</th>\n",
              "      <th>school_type</th>\n",
              "      <th>teaching_method</th>\n",
              "      <th>n_student</th>\n",
              "      <th>gender</th>\n",
              "      <th>lunch</th>\n",
              "      <th>pretest</th>\n",
              "      <th>posttest</th>\n",
              "      <th>score_improvement</th>\n",
              "    </tr>\n",
              "  </thead>\n",
              "  <tbody>\n",
              "    <tr>\n",
              "      <th>0</th>\n",
              "      <td>Urban</td>\n",
              "      <td>Non-public</td>\n",
              "      <td>Standard</td>\n",
              "      <td>20.0</td>\n",
              "      <td>Female</td>\n",
              "      <td>Does not qualify</td>\n",
              "      <td>62.0</td>\n",
              "      <td>72.0</td>\n",
              "      <td>10.0</td>\n",
              "    </tr>\n",
              "    <tr>\n",
              "      <th>1</th>\n",
              "      <td>Urban</td>\n",
              "      <td>Non-public</td>\n",
              "      <td>Standard</td>\n",
              "      <td>20.0</td>\n",
              "      <td>Female</td>\n",
              "      <td>Does not qualify</td>\n",
              "      <td>66.0</td>\n",
              "      <td>79.0</td>\n",
              "      <td>13.0</td>\n",
              "    </tr>\n",
              "  </tbody>\n",
              "</table>\n",
              "</div>"
            ],
            "text/plain": [
              "  school_setting school_type  ... posttest  score_improvement\n",
              "0          Urban  Non-public  ...     72.0               10.0\n",
              "1          Urban  Non-public  ...     79.0               13.0\n",
              "\n",
              "[2 rows x 9 columns]"
            ]
          },
          "metadata": {
            "tags": []
          },
          "execution_count": 4
        }
      ]
    },
    {
      "cell_type": "code",
      "metadata": {
        "id": "E4WoUmpW9Exo",
        "colab": {
          "base_uri": "https://localhost:8080/"
        },
        "outputId": "a8f51d54-cfb9-405b-8f88-3138081e852a"
      },
      "source": [
        "# Preview Shape\n",
        "concise_df.columns"
      ],
      "execution_count": null,
      "outputs": [
        {
          "output_type": "execute_result",
          "data": {
            "text/plain": [
              "Index(['school_setting', 'school_type', 'teaching_method', 'n_student',\n",
              "       'gender', 'lunch', 'pretest', 'posttest', 'score_improvement'],\n",
              "      dtype='object')"
            ]
          },
          "metadata": {
            "tags": []
          },
          "execution_count": 5
        }
      ]
    },
    {
      "cell_type": "markdown",
      "metadata": {
        "id": "ul7dP7sf66Ya"
      },
      "source": [
        "## **T-Test: Hypothesis 1**\n",
        "\n",
        "**There is no significant difference in test score improvements (μ = score_improvement) between the control group (μ1) and the experimental group (μ2):**\n",
        "\n",
        "  Ho: μ1 - μ2 = 0\n",
        "\n",
        "  Ha: μ1 - μ2 ≠ 0"
      ]
    },
    {
      "cell_type": "markdown",
      "metadata": {
        "id": "_sMCbLtkqzHe"
      },
      "source": [
        "##### **Examining Hypothesis:**"
      ]
    },
    {
      "cell_type": "code",
      "metadata": {
        "colab": {
          "base_uri": "https://localhost:8080/"
        },
        "id": "CU_3Tt7AWl3h",
        "outputId": "0ac1cbcf-5f27-4690-bc3b-a8d565956645"
      },
      "source": [
        "# Unique values in \"teaching_method\"\n",
        "teaching_method_counts = concise_df['teaching_method'].value_counts()\n",
        "teaching_method_counts"
      ],
      "execution_count": null,
      "outputs": [
        {
          "output_type": "execute_result",
          "data": {
            "text/plain": [
              "Standard        1373\n",
              "Experimental     760\n",
              "Name: teaching_method, dtype: int64"
            ]
          },
          "metadata": {
            "tags": []
          },
          "execution_count": 6
        }
      ]
    },
    {
      "cell_type": "code",
      "metadata": {
        "id": "aQppESr36-vo"
      },
      "source": [
        "# Establishing \"control\" group: \"Standard\" values under \"teaching_method\"\n",
        "control = concise_df.iloc[(df['teaching_method'] == \"Standard\").values]\n",
        "\n",
        "# Establishing \"experimental\" group: \"Experimental\" values under \"teaching_method\"\n",
        "experimental = concise_df.iloc[(df['teaching_method'] == \"Experimental\").values]"
      ],
      "execution_count": null,
      "outputs": []
    },
    {
      "cell_type": "code",
      "metadata": {
        "colab": {
          "base_uri": "https://localhost:8080/"
        },
        "id": "UpPhT-XTSwNG",
        "outputId": "f81a80a9-d66b-49b9-f163-8d0dc62ac3fb"
      },
      "source": [
        "# \"Control\" group statistics\n",
        "control['score_improvement'].describe()"
      ],
      "execution_count": null,
      "outputs": [
        {
          "output_type": "execute_result",
          "data": {
            "text/plain": [
              "count    1373.000000\n",
              "mean       10.053168\n",
              "std         3.293814\n",
              "min        -2.000000\n",
              "25%         8.000000\n",
              "50%        10.000000\n",
              "75%        12.000000\n",
              "max        22.000000\n",
              "Name: score_improvement, dtype: float64"
            ]
          },
          "metadata": {
            "tags": []
          },
          "execution_count": 102
        }
      ]
    },
    {
      "cell_type": "code",
      "metadata": {
        "colab": {
          "base_uri": "https://localhost:8080/"
        },
        "id": "7SrAAcfQTB-w",
        "outputId": "be9b15c0-b813-412c-bcef-2ce7e5bfa457"
      },
      "source": [
        "# \"Experimental\" group statistucs\n",
        "experimental['score_improvement'].describe()"
      ],
      "execution_count": null,
      "outputs": [
        {
          "output_type": "execute_result",
          "data": {
            "text/plain": [
              "count    760.000000\n",
              "mean      15.927632\n",
              "std        3.315834\n",
              "min        4.000000\n",
              "25%       14.000000\n",
              "50%       16.000000\n",
              "75%       18.000000\n",
              "max       28.000000\n",
              "Name: score_improvement, dtype: float64"
            ]
          },
          "metadata": {
            "tags": []
          },
          "execution_count": 9
        }
      ]
    },
    {
      "cell_type": "code",
      "metadata": {
        "colab": {
          "base_uri": "https://localhost:8080/"
        },
        "id": "pyOUiraxT7bo",
        "outputId": "ed789bb8-51e7-4cbe-dbc9-31fec8dcb371"
      },
      "source": [
        "# T-Test\n",
        "stats.ttest_ind(control['score_improvement'], experimental['score_improvement'])"
      ],
      "execution_count": null,
      "outputs": [
        {
          "output_type": "execute_result",
          "data": {
            "text/plain": [
              "Ttest_indResult(statistic=-39.353255048707595, pvalue=4.575752646832211e-255)"
            ]
          },
          "metadata": {
            "tags": []
          },
          "execution_count": 10
        }
      ]
    },
    {
      "cell_type": "markdown",
      "metadata": {
        "id": "sMV12mAYYOoM"
      },
      "source": [
        "##### **Evaluating Hypothesis**:\n",
        "---\n",
        "\n",
        "With a **p-value** of **< 0.05**, we will reject the null hypothesis.\n",
        "\n",
        "We can now say that students taught under Experimental Method had **significantly higher** test score improvements than students taught under the standard method.\n",
        "\n",
        "---"
      ]
    },
    {
      "cell_type": "markdown",
      "metadata": {
        "id": "Kl-OVPSkYa0S"
      },
      "source": [
        "##### **Confidence Intervals:**"
      ]
    },
    {
      "cell_type": "code",
      "metadata": {
        "id": "_h28pgtAZKQE"
      },
      "source": [
        "# Define function get_95_ci() that calculates standard error, confidence intervals\n",
        "\n",
        "import math\n",
        "\n",
        "def get_95_ci(array_1, array_2):\n",
        "  n_1 = array_1.shape[0]\n",
        "  mean_1 = array_1['score_improvement'].mean()\n",
        "  var_1= array_1['score_improvement'].var()\n",
        "  n_2 = array_2.shape[0]\n",
        "  mean_2 = array_2['score_improvement'].mean()\n",
        "  var_2 = array_2['score_improvement'].var()\n",
        "  std_err_difference = math.sqrt((var_1/n_1)+(var_2/n_2))\n",
        "  mean_difference = mean_2 - mean_1\n",
        "  margin_of_error = 1.96 * std_err_difference\n",
        "  margin_of_error = 1.96 * std_err_difference\n",
        "  ci_lower = mean_difference - margin_of_error\n",
        "  ci_upper = mean_difference + margin_of_error\n",
        "  return(\"The difference in means at the 95% confidence interval (two-tail) is between \"+str(ci_lower)+\" and \"+str(ci_upper)+\".\")"
      ],
      "execution_count": null,
      "outputs": []
    },
    {
      "cell_type": "code",
      "metadata": {
        "colab": {
          "base_uri": "https://localhost:8080/",
          "height": 35
        },
        "id": "Nid5VftqeLM-",
        "outputId": "6fa58f7d-e0d3-4df5-b667-92b851cf5e1f"
      },
      "source": [
        "# Using get_95_ci(), calculate confidence intervals\n",
        "get_95_ci(control, experimental)"
      ],
      "execution_count": null,
      "outputs": [
        {
          "output_type": "execute_result",
          "data": {
            "application/vnd.google.colaboratory.intrinsic+json": {
              "type": "string"
            },
            "text/plain": [
              "'The difference in means at the 95% confidence interval (two-tail) is between 5.581322982253433 and 6.16760368620212.'"
            ]
          },
          "metadata": {
            "tags": []
          },
          "execution_count": 12
        }
      ]
    },
    {
      "cell_type": "markdown",
      "metadata": {
        "id": "syoqtXgLBhX8"
      },
      "source": [
        "##### **Box Plot Visualization:**"
      ]
    },
    {
      "cell_type": "code",
      "metadata": {
        "colab": {
          "base_uri": "https://localhost:8080/",
          "height": 301
        },
        "id": "Kl-e1poiBf9H",
        "outputId": "4984cc10-0c93-49c1-e539-431dd1a9c07a"
      },
      "source": [
        "# Box plot of \"score_improvement\" scores based on \"teaching_method\"\n",
        "sns.boxplot(y=\"score_improvement\", x=\"teaching_method\", data=concise_df)"
      ],
      "execution_count": null,
      "outputs": [
        {
          "output_type": "execute_result",
          "data": {
            "text/plain": [
              "<matplotlib.axes._subplots.AxesSubplot at 0x7fab6fd4be10>"
            ]
          },
          "metadata": {
            "tags": []
          },
          "execution_count": 13
        },
        {
          "output_type": "display_data",
          "data": {
            "image/png": "[encoded data removed]",
            "text/plain": [
              "<Figure size 432x288 with 1 Axes>"
            ]
          },
          "metadata": {
            "tags": [],
            "needs_background": "light"
          }
        }
      ]
    },
    {
      "cell_type": "markdown",
      "metadata": {
        "id": "x1ormXBYJCT_"
      },
      "source": [
        "# **Examining Experimental Group under Qualitative  Variables**\n",
        "\n",
        "In this section, we will perform a series of T-tests to examine the experimental group and see whether test score improvements are affected by the following variables:\n",
        "\n",
        "*   School setting\n",
        "*   School type\n",
        "*   Gender\n",
        "*   Reduced/Free lunch\n",
        "\n",
        "\n",
        "\n",
        "\n"
      ]
    },
    {
      "cell_type": "markdown",
      "metadata": {
        "id": "_3SCAsw4iN2i"
      },
      "source": [
        "## **T-Test: Hypothesis 2**\n",
        "\n",
        "\n",
        "**Amongst the experimental group, there is no difference in test score improvements (μ = score_improvement) based on school setting.**\n",
        "\n",
        "  Ho: μ1 = μ2 = μ3\n",
        "\n",
        "  Ha: μ1 ≠ μ2 ≠ μ3"
      ]
    },
    {
      "cell_type": "markdown",
      "metadata": {
        "id": "wWFt1Na_svVf"
      },
      "source": [
        "##### **Examining Hypothesis:**\n"
      ]
    },
    {
      "cell_type": "code",
      "metadata": {
        "colab": {
          "base_uri": "https://localhost:8080/"
        },
        "id": "LPyDQ4uPiN2q",
        "outputId": "1b5ce7ae-4ca6-4333-e47c-45d273a778b0"
      },
      "source": [
        "# Unique values in \"school_setting\"\n",
        "experimental_school_setting_counts = experimental['school_setting'].value_counts()\n",
        "experimental_school_setting_counts"
      ],
      "execution_count": null,
      "outputs": [
        {
          "output_type": "execute_result",
          "data": {
            "text/plain": [
              "Suburban    284\n",
              "Urban       275\n",
              "Rural       201\n",
              "Name: school_setting, dtype: int64"
            ]
          },
          "metadata": {
            "tags": []
          },
          "execution_count": 56
        }
      ]
    },
    {
      "cell_type": "code",
      "metadata": {
        "id": "XKlax51ViN2r"
      },
      "source": [
        "# Establishing \"suburban\" group: \"Suburban\" values under \"school_setting\"\n",
        "experimental_suburban = experimental.iloc[(experimental['school_setting'] == \"Suburban\").values]\n",
        "\n",
        "# Establishing \"urban\" group: \"Urban\" values under \"school_setting\"\n",
        "experimental_urban = experimental.iloc[(experimental['school_setting'] == \"Urban\").values]\n",
        "\n",
        "# Establishing \"rural\" group: \"Rural\" values under \"school_setting\"\n",
        "experimental_rural = experimental.iloc[(experimental['school_setting'] == \"Rural\").values]"
      ],
      "execution_count": null,
      "outputs": []
    },
    {
      "cell_type": "code",
      "metadata": {
        "colab": {
          "base_uri": "https://localhost:8080/"
        },
        "id": "Z6VQU5fGiN2r",
        "outputId": "668efc15-7153-45fc-a645-cc3fff4476d1"
      },
      "source": [
        "# \"Suburban\" group statistics\n",
        "experimental_suburban['score_improvement'].describe()"
      ],
      "execution_count": null,
      "outputs": [
        {
          "output_type": "execute_result",
          "data": {
            "text/plain": [
              "count    284.000000\n",
              "mean      15.739437\n",
              "std        3.365129\n",
              "min        4.000000\n",
              "25%       13.000000\n",
              "50%       16.000000\n",
              "75%       18.000000\n",
              "max       25.000000\n",
              "Name: score_improvement, dtype: float64"
            ]
          },
          "metadata": {
            "tags": []
          },
          "execution_count": 64
        }
      ]
    },
    {
      "cell_type": "code",
      "metadata": {
        "colab": {
          "base_uri": "https://localhost:8080/"
        },
        "id": "JgfYK3jsiN2r",
        "outputId": "75adf957-1b0d-4425-a74b-2e7e3a691e9b"
      },
      "source": [
        "# \"Urban\" group statistics\n",
        "experimental_urban['score_improvement'].describe()"
      ],
      "execution_count": null,
      "outputs": [
        {
          "output_type": "execute_result",
          "data": {
            "text/plain": [
              "count    275.000000\n",
              "mean      16.160000\n",
              "std        3.451943\n",
              "min        5.000000\n",
              "25%       14.000000\n",
              "50%       16.000000\n",
              "75%       18.500000\n",
              "max       28.000000\n",
              "Name: score_improvement, dtype: float64"
            ]
          },
          "metadata": {
            "tags": []
          },
          "execution_count": 65
        }
      ]
    },
    {
      "cell_type": "code",
      "metadata": {
        "colab": {
          "base_uri": "https://localhost:8080/"
        },
        "id": "YAh-XEGulEQO",
        "outputId": "27cec793-fe18-4584-c2d4-def4fdd5e508"
      },
      "source": [
        "# \"Rural\" group statistics\n",
        "experimental_rural['score_improvement'].describe()"
      ],
      "execution_count": null,
      "outputs": [
        {
          "output_type": "execute_result",
          "data": {
            "text/plain": [
              "count    201.000000\n",
              "mean      15.875622\n",
              "std        3.041291\n",
              "min        8.000000\n",
              "25%       14.000000\n",
              "50%       16.000000\n",
              "75%       18.000000\n",
              "max       26.000000\n",
              "Name: score_improvement, dtype: float64"
            ]
          },
          "metadata": {
            "tags": []
          },
          "execution_count": 73
        }
      ]
    },
    {
      "cell_type": "code",
      "metadata": {
        "colab": {
          "base_uri": "https://localhost:8080/"
        },
        "id": "Lztjpq0OiN2r",
        "outputId": "f554e05c-750d-4c92-c37a-05c1282b92b0"
      },
      "source": [
        "# T-Test: \"suburban\" vs. \"urban\"\n",
        "stats.ttest_ind(experimental_suburban['score_improvement'], experimental_urban['score_improvement'])"
      ],
      "execution_count": null,
      "outputs": [
        {
          "output_type": "execute_result",
          "data": {
            "text/plain": [
              "Ttest_indResult(statistic=-1.4586037366562143, pvalue=0.14523784986831173)"
            ]
          },
          "metadata": {
            "tags": []
          },
          "execution_count": 75
        }
      ]
    },
    {
      "cell_type": "code",
      "metadata": {
        "colab": {
          "base_uri": "https://localhost:8080/"
        },
        "id": "KvNikoB4lvir",
        "outputId": "07a047fe-c083-4767-84ad-006f35c288cf"
      },
      "source": [
        "# T-Test: \"suburban\" vs. \"rural\"\n",
        "stats.ttest_ind(experimental_suburban['score_improvement'], experimental_rural['score_improvement'])"
      ],
      "execution_count": null,
      "outputs": [
        {
          "output_type": "execute_result",
          "data": {
            "text/plain": [
              "Ttest_indResult(statistic=-0.4567160317905362, pvalue=0.6480804851932769)"
            ]
          },
          "metadata": {
            "tags": []
          },
          "execution_count": 76
        }
      ]
    },
    {
      "cell_type": "code",
      "metadata": {
        "colab": {
          "base_uri": "https://localhost:8080/"
        },
        "id": "vUdC-3O1lvsu",
        "outputId": "13abe7b7-9477-49f3-90ef-5b5c0daf9d4b"
      },
      "source": [
        "# T-Test: \"urban\" vs. \"rural\"\n",
        "stats.ttest_ind(experimental_urban['score_improvement'], experimental_rural['score_improvement'])"
      ],
      "execution_count": null,
      "outputs": [
        {
          "output_type": "execute_result",
          "data": {
            "text/plain": [
              "Ttest_indResult(statistic=0.9328885411604845, pvalue=0.3513524619886722)"
            ]
          },
          "metadata": {
            "tags": []
          },
          "execution_count": 77
        }
      ]
    },
    {
      "cell_type": "markdown",
      "metadata": {
        "id": "HKbvQy-XiN2s"
      },
      "source": [
        "##### **Evaluating Hypothesis**:\n",
        "---\n",
        "\n",
        "With a **p-value** of **> 0.05**, we will accept the null hypothesis.\n",
        "\n",
        "We can now say that amongst the students taught under Experimental Method, there was **no significant difference** in test score improvements between suburban, urba, and rural students.\n",
        "\n",
        "---"
      ]
    },
    {
      "cell_type": "markdown",
      "metadata": {
        "id": "No4iHmsMiN2s"
      },
      "source": [
        "##### **Confidence Intervals:**"
      ]
    },
    {
      "cell_type": "code",
      "metadata": {
        "colab": {
          "base_uri": "https://localhost:8080/"
        },
        "id": "-WkN78i9iN2s",
        "outputId": "041ea9df-10c7-4beb-f931-dee9f3c0b7db"
      },
      "source": [
        "# Using get_95_ci(), calculate confidence intervals\n",
        "print(\"Suburban vs. Urban:\")\n",
        "print(get_95_ci(experimental_suburban, experimental_urban))\n",
        "\n",
        "print(\"Suburban vs. Rural:\")\n",
        "print(get_95_ci(experimental_suburban, experimental_rural))\n",
        "\n",
        "print(\"Urban vs. Rural:\")\n",
        "print(get_95_ci(experimental_urban, experimental_rural))"
      ],
      "execution_count": null,
      "outputs": [
        {
          "output_type": "stream",
          "text": [
            "Suburban vs. Urban:\n",
            "The difference in means at the 95% confidence interval (two-tail) is between -0.1448011843430459 and 0.9859279449064262.\n",
            "Suburban vs. Rural:\n",
            "The difference in means at the 95% confidence interval (two-tail) is between -0.4382343357129038 and 0.7106048773708104.\n",
            "Urban vs. Rural:\n",
            "The difference in means at the 95% confidence interval (two-tail) is between -0.8702436119103754 and 0.30148739300490157.\n"
          ],
          "name": "stdout"
        }
      ]
    },
    {
      "cell_type": "markdown",
      "metadata": {
        "id": "3oOh9bDruhlu"
      },
      "source": [
        "##### **Box Plot Visualization:**"
      ]
    },
    {
      "cell_type": "code",
      "metadata": {
        "colab": {
          "base_uri": "https://localhost:8080/",
          "height": 301
        },
        "id": "lprjv0N7iN2s",
        "outputId": "4876f57a-1f90-4f8d-9d1e-ab258155ced2"
      },
      "source": [
        "# Box plot of \"score_improvement\" scores based on \"school_setting\"\n",
        "sns.boxplot(y=\"score_improvement\", x=\"school_setting\", data=experimental)"
      ],
      "execution_count": null,
      "outputs": [
        {
          "output_type": "execute_result",
          "data": {
            "text/plain": [
              "<matplotlib.axes._subplots.AxesSubplot at 0x7fab6f1fa5d0>"
            ]
          },
          "metadata": {
            "tags": []
          },
          "execution_count": 74
        },
        {
          "output_type": "display_data",
          "data": {
            "image/png": "[encoded data removed]",
            "text/plain": [
              "<Figure size 432x288 with 1 Axes>"
            ]
          },
          "metadata": {
            "tags": [],
            "needs_background": "light"
          }
        }
      ]
    },
    {
      "cell_type": "markdown",
      "metadata": {
        "id": "kg8Wj2UNYa5T"
      },
      "source": [
        "## **T-Test: Hypothesis 3**\n",
        "\n",
        "\n",
        "**Amongst the experimental group, there is no difference in test score improvements (μ = score_improvement) based on school type.**\n",
        "\n",
        "  Ho: μ1 - μ2 = 0\n",
        "\n",
        "  Ha: μ1 - μ2 ≠ 0"
      ]
    },
    {
      "cell_type": "markdown",
      "metadata": {
        "id": "WWANYjVkoaa_"
      },
      "source": [
        "##### **Examining Hypothesis:**\n"
      ]
    },
    {
      "cell_type": "code",
      "metadata": {
        "id": "c2TG3_rLgJEb",
        "colab": {
          "base_uri": "https://localhost:8080/"
        },
        "outputId": "9f59742c-8541-4e3e-e672-a96b7cbff253"
      },
      "source": [
        "# Unique values in \"school_type\"\n",
        "experimental_school_type_counts = experimental['school_type'].value_counts()\n",
        "experimental_school_type_counts"
      ],
      "execution_count": null,
      "outputs": [
        {
          "output_type": "execute_result",
          "data": {
            "text/plain": [
              "Public        495\n",
              "Non-public    265\n",
              "Name: school_type, dtype: int64"
            ]
          },
          "metadata": {
            "tags": []
          },
          "execution_count": 16
        }
      ]
    },
    {
      "cell_type": "code",
      "metadata": {
        "id": "W9kYWrYlXPON"
      },
      "source": [
        "# Establishing \"public\" group: \"Public\" values under \"school_type\"\n",
        "experimental_public = experimental.iloc[(experimental['school_type'] == \"Public\").values]\n",
        "\n",
        "# Establishing \"non_public\" group: \"Non-public\" values under \"school_type\"\n",
        "experimental_non_public = experimental.iloc[(experimental['school_type'] == \"Non-public\").values]"
      ],
      "execution_count": null,
      "outputs": []
    },
    {
      "cell_type": "code",
      "metadata": {
        "colab": {
          "base_uri": "https://localhost:8080/"
        },
        "id": "CNY4j4saXPOX",
        "outputId": "08b02e9b-4fff-41b9-eaef-cd438ea7cd31"
      },
      "source": [
        "# \"Public\" group statistics\n",
        "experimental_public['score_improvement'].describe()"
      ],
      "execution_count": null,
      "outputs": [
        {
          "output_type": "execute_result",
          "data": {
            "text/plain": [
              "count    495.000000\n",
              "mean      16.125253\n",
              "std        3.302629\n",
              "min        4.000000\n",
              "25%       14.000000\n",
              "50%       16.000000\n",
              "75%       18.000000\n",
              "max       28.000000\n",
              "Name: score_improvement, dtype: float64"
            ]
          },
          "metadata": {
            "tags": []
          },
          "execution_count": 18
        }
      ]
    },
    {
      "cell_type": "code",
      "metadata": {
        "colab": {
          "base_uri": "https://localhost:8080/"
        },
        "id": "ZpGMndDTXPOY",
        "outputId": "8e56cdf7-e36f-4129-b35d-cbe902ac3101"
      },
      "source": [
        "# \"Non_public\" group statistics\n",
        "experimental_non_public['score_improvement'].describe()"
      ],
      "execution_count": null,
      "outputs": [
        {
          "output_type": "execute_result",
          "data": {
            "text/plain": [
              "count    265.000000\n",
              "mean      15.558491\n",
              "std        3.315107\n",
              "min        5.000000\n",
              "25%       13.000000\n",
              "50%       16.000000\n",
              "75%       18.000000\n",
              "max       24.000000\n",
              "Name: score_improvement, dtype: float64"
            ]
          },
          "metadata": {
            "tags": []
          },
          "execution_count": 19
        }
      ]
    },
    {
      "cell_type": "code",
      "metadata": {
        "colab": {
          "base_uri": "https://localhost:8080/"
        },
        "id": "3N-1M3EYXPOY",
        "outputId": "af9c9b49-672d-432f-b677-09a8cdf9039d"
      },
      "source": [
        "# T-Test\n",
        "stats.ttest_ind(experimental_public['score_improvement'], experimental_non_public['score_improvement'])"
      ],
      "execution_count": null,
      "outputs": [
        {
          "output_type": "execute_result",
          "data": {
            "text/plain": [
              "Ttest_indResult(statistic=2.2515823296596498, pvalue=0.024634254254775712)"
            ]
          },
          "metadata": {
            "tags": []
          },
          "execution_count": 20
        }
      ]
    },
    {
      "cell_type": "markdown",
      "metadata": {
        "id": "lDLlSwqQXPOZ"
      },
      "source": [
        "##### **Evaluating Hypothesis**:\n",
        "---\n",
        "\n",
        "With a **p-value** of **< 0.05**, we will reject the null hypothesis.\n",
        "\n",
        "We can now say that amongst students taught under Experimental Method, public school attendees had **significantly higher** test score improvements than their non-public school attending peers.\n",
        "\n",
        "---"
      ]
    },
    {
      "cell_type": "markdown",
      "metadata": {
        "id": "Vj2rMTaqcu2K"
      },
      "source": [
        "##### **Confidence Intervals:**"
      ]
    },
    {
      "cell_type": "code",
      "metadata": {
        "colab": {
          "base_uri": "https://localhost:8080/",
          "height": 35
        },
        "id": "3xEI7_Lmcu2K",
        "outputId": "9c27d147-fb8d-4973-bc07-740a910092e3"
      },
      "source": [
        "# Using get_95_ci(), calculate confidence intervals\n",
        "get_95_ci(experimental_public, experimental_non_public)"
      ],
      "execution_count": null,
      "outputs": [
        {
          "output_type": "execute_result",
          "data": {
            "application/vnd.google.colaboratory.intrinsic+json": {
              "type": "string"
            },
            "text/plain": [
              "'The difference in means at the 95% confidence interval (two-tail) is between -1.060691779991628 and -0.07283213843794656.'"
            ]
          },
          "metadata": {
            "tags": []
          },
          "execution_count": 21
        }
      ]
    },
    {
      "cell_type": "markdown",
      "metadata": {
        "id": "Dqq1nchTcyUl"
      },
      "source": [
        "##### **Box Plot Visualization:**"
      ]
    },
    {
      "cell_type": "code",
      "metadata": {
        "colab": {
          "base_uri": "https://localhost:8080/",
          "height": 301
        },
        "id": "rqD-y76Mcu2K",
        "outputId": "8df23afd-17d1-4da2-e831-f0b8164b8d81"
      },
      "source": [
        "# Box plot of \"score_improvement\" scores based on \"school_type\"\n",
        "sns.boxplot(y=\"score_improvement\", x=\"school_type\", data=experimental)"
      ],
      "execution_count": null,
      "outputs": [
        {
          "output_type": "execute_result",
          "data": {
            "text/plain": [
              "<matplotlib.axes._subplots.AxesSubplot at 0x7fab6fcacf10>"
            ]
          },
          "metadata": {
            "tags": []
          },
          "execution_count": 22
        },
        {
          "output_type": "display_data",
          "data": {
            "image/png": "[encoded data removed]",
            "text/plain": [
              "<Figure size 432x288 with 1 Axes>"
            ]
          },
          "metadata": {
            "tags": [],
            "needs_background": "light"
          }
        }
      ]
    },
    {
      "cell_type": "markdown",
      "metadata": {
        "id": "80CyFP-5oDRz"
      },
      "source": [
        "##### **Non-Public Experimental Group vs. Non-public Control Group:**"
      ]
    },
    {
      "cell_type": "code",
      "metadata": {
        "colab": {
          "base_uri": "https://localhost:8080/"
        },
        "id": "r8v1EgluneRD",
        "outputId": "988803c5-9d07-4930-f929-dbca6ef9f144"
      },
      "source": [
        "# Establishing \"non_public\" control group: \"Non-public\" values under \"school_type\"\n",
        "control_non_public = control.iloc[(control['school_type'] == \"Non-public\").values]\n",
        "\n",
        "# \"non-public\" control group statistics\n",
        "control_non_public['score_improvement'].describe()"
      ],
      "execution_count": null,
      "outputs": [
        {
          "output_type": "execute_result",
          "data": {
            "text/plain": [
              "count    286.000000\n",
              "mean      10.066434\n",
              "std        3.295791\n",
              "min        0.000000\n",
              "25%        8.000000\n",
              "50%       10.000000\n",
              "75%       12.000000\n",
              "max       22.000000\n",
              "Name: score_improvement, dtype: float64"
            ]
          },
          "metadata": {
            "tags": []
          },
          "execution_count": 101
        }
      ]
    },
    {
      "cell_type": "code",
      "metadata": {
        "colab": {
          "base_uri": "https://localhost:8080/"
        },
        "id": "OuIywY67me26",
        "outputId": "f0d410d5-2499-44e9-f89a-1dcd8a55aa4d"
      },
      "source": [
        "# T-Test\n",
        "stats.ttest_ind(experimental_non_public['score_improvement'], control_non_public['score_improvement'],)"
      ],
      "execution_count": null,
      "outputs": [
        {
          "output_type": "execute_result",
          "data": {
            "text/plain": [
              "Ttest_indResult(statistic=19.488633983000096, pvalue=1.1017637435868445e-64)"
            ]
          },
          "metadata": {
            "tags": []
          },
          "execution_count": 100
        }
      ]
    },
    {
      "cell_type": "markdown",
      "metadata": {
        "id": "NkT2X59mpZjV"
      },
      "source": [
        "##### **Observation:**\n",
        "---\n",
        "\n",
        "Although experimental group non-public school attendees saw a smaller benefit than their public school counter parts, their test score improvements were still **significantly higher** than control group non-public school attendees, with a **p-value** of **< 0.05**.\n",
        "\n",
        "---\n",
        "\n"
      ]
    },
    {
      "cell_type": "markdown",
      "metadata": {
        "id": "5hdsusxa8W0p"
      },
      "source": [
        "## **T-Test: Hypothesis 4**\n",
        "\n",
        "**Amongst the experimental group, there is no difference in test score improvements (μ = score_improvement) based on gender.**\n",
        "\n",
        "  Ho: μ1 - μ2 = 0\n",
        "\n",
        "  Ha: μ1 - μ2 ≠ 0"
      ]
    },
    {
      "cell_type": "markdown",
      "metadata": {
        "id": "3QYrbfKBtvkh"
      },
      "source": [
        "##### **Examining Hypothesis:**"
      ]
    },
    {
      "cell_type": "code",
      "metadata": {
        "colab": {
          "base_uri": "https://localhost:8080/"
        },
        "id": "N2-E3rKaaU_z",
        "outputId": "be9dcc12-abe6-43db-afb2-5ba3428156a8"
      },
      "source": [
        "# Unique values in \"gender\"\n",
        "experimental_gender_counts = experimental['gender'].value_counts()\n",
        "experimental_gender_counts"
      ],
      "execution_count": null,
      "outputs": [
        {
          "output_type": "execute_result",
          "data": {
            "text/plain": [
              "Male      394\n",
              "Female    366\n",
              "Name: gender, dtype: int64"
            ]
          },
          "metadata": {
            "tags": []
          },
          "execution_count": 23
        }
      ]
    },
    {
      "cell_type": "code",
      "metadata": {
        "id": "oAqewsJWaU_-"
      },
      "source": [
        "# Establishing \"male\" group: \"Male\" values under \"gender\"\n",
        "experimental_male = experimental.iloc[(experimental['gender'] == \"Male\").values]\n",
        "\n",
        "# Establishing \"female\" group: \"Female\" values under \"gender\"\n",
        "experimental_female = experimental.iloc[(experimental['gender'] == \"Female\").values]"
      ],
      "execution_count": null,
      "outputs": []
    },
    {
      "cell_type": "code",
      "metadata": {
        "colab": {
          "base_uri": "https://localhost:8080/"
        },
        "id": "Ahn-1o3ZaU_-",
        "outputId": "27b6fe48-a225-4ce3-f02b-fbb493121116"
      },
      "source": [
        "# \"Male\" group statistics\n",
        "experimental_male['score_improvement'].describe()"
      ],
      "execution_count": null,
      "outputs": [
        {
          "output_type": "execute_result",
          "data": {
            "text/plain": [
              "count    394.000000\n",
              "mean      15.972081\n",
              "std        3.406584\n",
              "min        4.000000\n",
              "25%       14.000000\n",
              "50%       16.000000\n",
              "75%       18.000000\n",
              "max       28.000000\n",
              "Name: score_improvement, dtype: float64"
            ]
          },
          "metadata": {
            "tags": []
          },
          "execution_count": 25
        }
      ]
    },
    {
      "cell_type": "code",
      "metadata": {
        "colab": {
          "base_uri": "https://localhost:8080/"
        },
        "id": "Vnifa1IEaU_-",
        "outputId": "0f8699d5-9dec-43c9-86f7-1857914c9497"
      },
      "source": [
        "# \"Non_public\" group statistics\n",
        "experimental_female['score_improvement'].describe()"
      ],
      "execution_count": null,
      "outputs": [
        {
          "output_type": "execute_result",
          "data": {
            "text/plain": [
              "count    366.000000\n",
              "mean      15.879781\n",
              "std        3.219253\n",
              "min        8.000000\n",
              "25%       14.000000\n",
              "50%       16.000000\n",
              "75%       18.000000\n",
              "max       25.000000\n",
              "Name: score_improvement, dtype: float64"
            ]
          },
          "metadata": {
            "tags": []
          },
          "execution_count": 26
        }
      ]
    },
    {
      "cell_type": "code",
      "metadata": {
        "colab": {
          "base_uri": "https://localhost:8080/"
        },
        "id": "416_RsljaU__",
        "outputId": "e8b480a5-7820-4b59-f4b2-b334da17a01b"
      },
      "source": [
        "# T-Test\n",
        "stats.ttest_ind(experimental_male['score_improvement'], experimental_female['score_improvement'])"
      ],
      "execution_count": null,
      "outputs": [
        {
          "output_type": "execute_result",
          "data": {
            "text/plain": [
              "Ttest_indResult(statistic=0.3832177271345693, pvalue=0.7016657823494656)"
            ]
          },
          "metadata": {
            "tags": []
          },
          "execution_count": 27
        }
      ]
    },
    {
      "cell_type": "markdown",
      "metadata": {
        "id": "aLU2sE8saU__"
      },
      "source": [
        "##### **Evaluating Hypothesis**:\n",
        "---\n",
        "\n",
        "With a **p-value** of **> 0.05**, we will accept the null hypothesis.\n",
        "\n",
        "We can now say that amongst the students taught under Experimental Method, there was **no significant difference** in test score improvements between male students and female students.\n",
        "\n",
        "---"
      ]
    },
    {
      "cell_type": "markdown",
      "metadata": {
        "id": "qZyEMlWbaU__"
      },
      "source": [
        "##### **Confidence Intervals:**"
      ]
    },
    {
      "cell_type": "code",
      "metadata": {
        "colab": {
          "base_uri": "https://localhost:8080/",
          "height": 35
        },
        "id": "VqKhFnbWaU__",
        "outputId": "b2e332aa-681a-446c-d66b-c80de1c5bc80"
      },
      "source": [
        "# Using get_95_ci(), calculate confidence intervals\n",
        "get_95_ci(experimental_male, experimental_female)"
      ],
      "execution_count": null,
      "outputs": [
        {
          "output_type": "execute_result",
          "data": {
            "application/vnd.google.colaboratory.intrinsic+json": {
              "type": "string"
            },
            "text/plain": [
              "'The difference in means at the 95% confidence interval (two-tail) is between -0.5633921029739185 and 0.3787925079557518.'"
            ]
          },
          "metadata": {
            "tags": []
          },
          "execution_count": 28
        }
      ]
    },
    {
      "cell_type": "markdown",
      "metadata": {
        "id": "Lucg3glCvCUn"
      },
      "source": [
        "##### **Box Plot Visualization:**"
      ]
    },
    {
      "cell_type": "code",
      "metadata": {
        "colab": {
          "base_uri": "https://localhost:8080/",
          "height": 301
        },
        "id": "nVIk9sVNaU__",
        "outputId": "d063ffcc-cc74-462f-9c92-e6a8fdf8198a"
      },
      "source": [
        "# Box plot of \"score_improvement\" scores based on \"gender\"\n",
        "sns.boxplot(y=\"score_improvement\", x=\"gender\", data=experimental)"
      ],
      "execution_count": null,
      "outputs": [
        {
          "output_type": "execute_result",
          "data": {
            "text/plain": [
              "<matplotlib.axes._subplots.AxesSubplot at 0x7fab6f7a2710>"
            ]
          },
          "metadata": {
            "tags": []
          },
          "execution_count": 29
        },
        {
          "output_type": "display_data",
          "data": {
            "image/png": "[encoded data removed]",
            "text/plain": [
              "<Figure size 432x288 with 1 Axes>"
            ]
          },
          "metadata": {
            "tags": [],
            "needs_background": "light"
          }
        }
      ]
    },
    {
      "cell_type": "markdown",
      "metadata": {
        "id": "hFBOt98gfRn5"
      },
      "source": [
        "## **T-Test: Hypothesis 5**\n",
        "\n",
        "**Amongst the experimental group, there is no difference in test score improvements (μ = score_improvement) based on reduced/free lunch eligibility.**\n",
        "\n",
        "  Ho: μ1 - μ2 = 0\n",
        "\n",
        "  Ha: μ1 - μ2 ≠ 0"
      ]
    },
    {
      "cell_type": "markdown",
      "metadata": {
        "id": "6giMVb9Ftyq6"
      },
      "source": [
        "##### **Examining Hypothesis:**"
      ]
    },
    {
      "cell_type": "code",
      "metadata": {
        "id": "FCbE59BqhXFw",
        "colab": {
          "base_uri": "https://localhost:8080/"
        },
        "outputId": "783c3ee7-f397-47a8-a2bf-7bb8aeecfa07"
      },
      "source": [
        "# Unique values in \"lunch\"\n",
        "experimental_lunch_counts = experimental['lunch'].value_counts()\n",
        "experimental_lunch_counts"
      ],
      "execution_count": null,
      "outputs": [
        {
          "output_type": "execute_result",
          "data": {
            "text/plain": [
              "Does not qualify                    442\n",
              "Qualifies for reduced/free lunch    318\n",
              "Name: lunch, dtype: int64"
            ]
          },
          "metadata": {
            "tags": []
          },
          "execution_count": 44
        }
      ]
    },
    {
      "cell_type": "code",
      "metadata": {
        "id": "NNJZrqnafRoD"
      },
      "source": [
        "# Establishing \"not_qualify\" group: \"Does not qualify\" values under \"lunch\"\n",
        "experimental_not_qualify = experimental.iloc[(experimental['lunch'] == \"Does not qualify\").values]\n",
        "\n",
        "# Establishing \"qualify\" group: \"Qualifies for reduced/free lunch\" values under \"lunch\"\n",
        "experimental_qualify = experimental.iloc[(experimental['lunch'] == \"Qualifies for reduced/free lunch\").values]"
      ],
      "execution_count": null,
      "outputs": []
    },
    {
      "cell_type": "code",
      "metadata": {
        "colab": {
          "base_uri": "https://localhost:8080/"
        },
        "id": "O5Qjuls7fRoD",
        "outputId": "c655b044-13c6-4145-c923-30b793960f31"
      },
      "source": [
        "# \"not_qualify\" group statistics\n",
        "experimental_not_qualify['score_improvement'].describe()"
      ],
      "execution_count": null,
      "outputs": [
        {
          "output_type": "execute_result",
          "data": {
            "text/plain": [
              "count    442.000000\n",
              "mean      15.776018\n",
              "std        3.459787\n",
              "min        4.000000\n",
              "25%       13.000000\n",
              "50%       16.000000\n",
              "75%       18.000000\n",
              "max       26.000000\n",
              "Name: score_improvement, dtype: float64"
            ]
          },
          "metadata": {
            "tags": []
          },
          "execution_count": 46
        }
      ]
    },
    {
      "cell_type": "code",
      "metadata": {
        "colab": {
          "base_uri": "https://localhost:8080/"
        },
        "id": "xUdLSSIXfRoD",
        "outputId": "4e20eef6-1ea7-4fc5-97e9-52126ed2f619"
      },
      "source": [
        "# \"qualify\" group statistics\n",
        "experimental_qualify['score_improvement'].describe()"
      ],
      "execution_count": null,
      "outputs": [
        {
          "output_type": "execute_result",
          "data": {
            "text/plain": [
              "count    318.000000\n",
              "mean      16.138365\n",
              "std        3.097731\n",
              "min        8.000000\n",
              "25%       14.000000\n",
              "50%       16.000000\n",
              "75%       18.000000\n",
              "max       28.000000\n",
              "Name: score_improvement, dtype: float64"
            ]
          },
          "metadata": {
            "tags": []
          },
          "execution_count": 47
        }
      ]
    },
    {
      "cell_type": "code",
      "metadata": {
        "colab": {
          "base_uri": "https://localhost:8080/"
        },
        "id": "8v_PjLV6fRoD",
        "outputId": "801ddb41-9a4f-4079-e272-2ea13cf43488"
      },
      "source": [
        "# T-Test\n",
        "stats.ttest_ind(experimental_not_qualify['score_improvement'], experimental_qualify['score_improvement'])"
      ],
      "execution_count": null,
      "outputs": [
        {
          "output_type": "execute_result",
          "data": {
            "text/plain": [
              "Ttest_indResult(statistic=-1.487290730644386, pvalue=0.13735388705256357)"
            ]
          },
          "metadata": {
            "tags": []
          },
          "execution_count": 48
        }
      ]
    },
    {
      "cell_type": "markdown",
      "metadata": {
        "id": "MSBfRMYffRoD"
      },
      "source": [
        "##### **Evaluating Hypothesis**:\n",
        "---\n",
        "\n",
        "With a **p-value** of **> 0.05**, we will accept the null hypothesis.\n",
        "\n",
        "We can now say that amongst the students taught under Experimental Method, there was **no significant difference** in test score improvements between students who qualify and students who do not qualify for reduced/free lunches.\n",
        "\n",
        "---"
      ]
    },
    {
      "cell_type": "markdown",
      "metadata": {
        "id": "nMOiD-mBfRoE"
      },
      "source": [
        "##### **Confidence Intervals:**"
      ]
    },
    {
      "cell_type": "code",
      "metadata": {
        "colab": {
          "base_uri": "https://localhost:8080/",
          "height": 51
        },
        "id": "854MnOu5fRoE",
        "outputId": "f07268af-c906-47f5-ed4b-6b81418b6eff"
      },
      "source": [
        "# Using get_95_ci(), calculate confidence intervals\n",
        "get_95_ci(experimental_not_qualify, experimental_qualify)"
      ],
      "execution_count": null,
      "outputs": [
        {
          "output_type": "execute_result",
          "data": {
            "application/vnd.google.colaboratory.intrinsic+json": {
              "type": "string"
            },
            "text/plain": [
              "'The difference in means at the 95% confidence interval (two-tail) is between -0.10665324946811666 and 0.8313466101215174.'"
            ]
          },
          "metadata": {
            "tags": []
          },
          "execution_count": 52
        }
      ]
    },
    {
      "cell_type": "markdown",
      "metadata": {
        "id": "BxZ6LOozvHL7"
      },
      "source": [
        "##### **Box Plot Visualization:**"
      ]
    },
    {
      "cell_type": "code",
      "metadata": {
        "colab": {
          "base_uri": "https://localhost:8080/",
          "height": 301
        },
        "id": "T0B4Ky1bfRoE",
        "outputId": "b938abb2-204b-4c04-e7c0-cfe2ec6eafb4"
      },
      "source": [
        "# Box plot of \"score_improvement\" scores based on \"lunch\"\n",
        "sns.boxplot(y=\"score_improvement\", x=\"lunch\", data=experimental)"
      ],
      "execution_count": null,
      "outputs": [
        {
          "output_type": "execute_result",
          "data": {
            "text/plain": [
              "<matplotlib.axes._subplots.AxesSubplot at 0x7fab6f27f790>"
            ]
          },
          "metadata": {
            "tags": []
          },
          "execution_count": 53
        },
        {
          "output_type": "display_data",
          "data": {
            "image/png": "[encoded data removed]",
            "text/plain": [
              "<Figure size 432x288 with 1 Axes>"
            ]
          },
          "metadata": {
            "tags": [],
            "needs_background": "light"
          }
        }
      ]
    },
    {
      "cell_type": "markdown",
      "metadata": {
        "id": "1bMv7piKjLW1"
      },
      "source": [
        "# **Examining Experimental Group under Quantitative Variables**\n",
        "\n",
        "In this section, we will perform a series of T-tests to examine the experimental group and see whether test score improvements are affected by the following variables:\n",
        "\n",
        "*   Number of students in the classroom\n",
        "*   Pre-year-test score\n",
        "*   Post-year-test score"
      ]
    },
    {
      "cell_type": "markdown",
      "metadata": {
        "id": "cR2dDxYoPWvV"
      },
      "source": [
        "##### **Statistics:**"
      ]
    },
    {
      "cell_type": "code",
      "metadata": {
        "colab": {
          "base_uri": "https://localhost:8080/",
          "height": 290
        },
        "id": "bLTkmJENDkbV",
        "outputId": "c5aa4220-5d7a-41c5-9c97-92bbd3c14cca"
      },
      "source": [
        "# Statistcs of quantitative variables\n",
        "experimental[['n_student', 'pretest', 'posttest', 'score_improvement']].describe()"
      ],
      "execution_count": null,
      "outputs": [
        {
          "output_type": "execute_result",
          "data": {
            "text/html": [
              "<div>\n",
              "<style scoped>\n",
              "    .dataframe tbody tr th:only-of-type {\n",
              "        vertical-align: middle;\n",
              "    }\n",
              "\n",
              "    .dataframe tbody tr th {\n",
              "        vertical-align: top;\n",
              "    }\n",
              "\n",
              "    .dataframe thead th {\n",
              "        text-align: right;\n",
              "    }\n",
              "</style>\n",
              "<table border=\"1\" class=\"dataframe\">\n",
              "  <thead>\n",
              "    <tr style=\"text-align: right;\">\n",
              "      <th></th>\n",
              "      <th>n_student</th>\n",
              "      <th>pretest</th>\n",
              "      <th>posttest</th>\n",
              "      <th>score_improvement</th>\n",
              "    </tr>\n",
              "  </thead>\n",
              "  <tbody>\n",
              "    <tr>\n",
              "      <th>count</th>\n",
              "      <td>760.000000</td>\n",
              "      <td>760.000000</td>\n",
              "      <td>760.000000</td>\n",
              "      <td>760.000000</td>\n",
              "    </tr>\n",
              "    <tr>\n",
              "      <th>mean</th>\n",
              "      <td>22.194737</td>\n",
              "      <td>57.055263</td>\n",
              "      <td>72.982895</td>\n",
              "      <td>15.927632</td>\n",
              "    </tr>\n",
              "    <tr>\n",
              "      <th>std</th>\n",
              "      <td>4.870548</td>\n",
              "      <td>14.019076</td>\n",
              "      <td>13.732566</td>\n",
              "      <td>3.315834</td>\n",
              "    </tr>\n",
              "    <tr>\n",
              "      <th>min</th>\n",
              "      <td>14.000000</td>\n",
              "      <td>22.000000</td>\n",
              "      <td>39.000000</td>\n",
              "      <td>4.000000</td>\n",
              "    </tr>\n",
              "    <tr>\n",
              "      <th>25%</th>\n",
              "      <td>18.000000</td>\n",
              "      <td>45.000000</td>\n",
              "      <td>61.000000</td>\n",
              "      <td>14.000000</td>\n",
              "    </tr>\n",
              "    <tr>\n",
              "      <th>50%</th>\n",
              "      <td>22.000000</td>\n",
              "      <td>59.000000</td>\n",
              "      <td>75.000000</td>\n",
              "      <td>16.000000</td>\n",
              "    </tr>\n",
              "    <tr>\n",
              "      <th>75%</th>\n",
              "      <td>27.000000</td>\n",
              "      <td>67.000000</td>\n",
              "      <td>83.000000</td>\n",
              "      <td>18.000000</td>\n",
              "    </tr>\n",
              "    <tr>\n",
              "      <th>max</th>\n",
              "      <td>30.000000</td>\n",
              "      <td>93.000000</td>\n",
              "      <td>100.000000</td>\n",
              "      <td>28.000000</td>\n",
              "    </tr>\n",
              "  </tbody>\n",
              "</table>\n",
              "</div>"
            ],
            "text/plain": [
              "        n_student     pretest    posttest  score_improvement\n",
              "count  760.000000  760.000000  760.000000         760.000000\n",
              "mean    22.194737   57.055263   72.982895          15.927632\n",
              "std      4.870548   14.019076   13.732566           3.315834\n",
              "min     14.000000   22.000000   39.000000           4.000000\n",
              "25%     18.000000   45.000000   61.000000          14.000000\n",
              "50%     22.000000   59.000000   75.000000          16.000000\n",
              "75%     27.000000   67.000000   83.000000          18.000000\n",
              "max     30.000000   93.000000  100.000000          28.000000"
            ]
          },
          "metadata": {
            "tags": []
          },
          "execution_count": 89
        }
      ]
    },
    {
      "cell_type": "markdown",
      "metadata": {
        "id": "oKNXn4A_XHl4"
      },
      "source": [
        "##### **Correlations:**"
      ]
    },
    {
      "cell_type": "code",
      "metadata": {
        "colab": {
          "base_uri": "https://localhost:8080/",
          "height": 170
        },
        "id": "l4FjpTqfqYQ2",
        "outputId": "725918f6-443c-475f-8729-ea4adcdc49ca"
      },
      "source": [
        "# Pearson correlation coeffitients between variables\n",
        "experimental[['n_student', 'pretest', 'posttest', 'score_improvement']].corr()"
      ],
      "execution_count": null,
      "outputs": [
        {
          "output_type": "execute_result",
          "data": {
            "text/html": [
              "<div>\n",
              "<style scoped>\n",
              "    .dataframe tbody tr th:only-of-type {\n",
              "        vertical-align: middle;\n",
              "    }\n",
              "\n",
              "    .dataframe tbody tr th {\n",
              "        vertical-align: top;\n",
              "    }\n",
              "\n",
              "    .dataframe thead th {\n",
              "        text-align: right;\n",
              "    }\n",
              "</style>\n",
              "<table border=\"1\" class=\"dataframe\">\n",
              "  <thead>\n",
              "    <tr style=\"text-align: right;\">\n",
              "      <th></th>\n",
              "      <th>n_student</th>\n",
              "      <th>pretest</th>\n",
              "      <th>posttest</th>\n",
              "      <th>score_improvement</th>\n",
              "    </tr>\n",
              "  </thead>\n",
              "  <tbody>\n",
              "    <tr>\n",
              "      <th>n_student</th>\n",
              "      <td>1.000000</td>\n",
              "      <td>-0.620785</td>\n",
              "      <td>-0.615305</td>\n",
              "      <td>0.076336</td>\n",
              "    </tr>\n",
              "    <tr>\n",
              "      <th>pretest</th>\n",
              "      <td>-0.620785</td>\n",
              "      <td>1.000000</td>\n",
              "      <td>0.971658</td>\n",
              "      <td>-0.203785</td>\n",
              "    </tr>\n",
              "    <tr>\n",
              "      <th>posttest</th>\n",
              "      <td>-0.615305</td>\n",
              "      <td>0.971658</td>\n",
              "      <td>1.000000</td>\n",
              "      <td>0.033421</td>\n",
              "    </tr>\n",
              "    <tr>\n",
              "      <th>score_improvement</th>\n",
              "      <td>0.076336</td>\n",
              "      <td>-0.203785</td>\n",
              "      <td>0.033421</td>\n",
              "      <td>1.000000</td>\n",
              "    </tr>\n",
              "  </tbody>\n",
              "</table>\n",
              "</div>"
            ],
            "text/plain": [
              "                   n_student   pretest  posttest  score_improvement\n",
              "n_student           1.000000 -0.620785 -0.615305           0.076336\n",
              "pretest            -0.620785  1.000000  0.971658          -0.203785\n",
              "posttest           -0.615305  0.971658  1.000000           0.033421\n",
              "score_improvement   0.076336 -0.203785  0.033421           1.000000"
            ]
          },
          "metadata": {
            "tags": []
          },
          "execution_count": 88
        }
      ]
    },
    {
      "cell_type": "markdown",
      "metadata": {
        "id": "_92I8-ptvf7o"
      },
      "source": [
        "##### **Seaborn Pair Plot Visualization:**"
      ]
    },
    {
      "cell_type": "code",
      "metadata": {
        "colab": {
          "base_uri": "https://localhost:8080/",
          "height": 743
        },
        "id": "kLZEldSBS5RP",
        "outputId": "1fff06f1-e96e-4da0-a89f-c37344e33199"
      },
      "source": [
        "# Seaborn pair plot for pair-wise relationships between variables\n",
        "sns.pairplot(experimental)"
      ],
      "execution_count": null,
      "outputs": [
        {
          "output_type": "execute_result",
          "data": {
            "text/plain": [
              "<seaborn.axisgrid.PairGrid at 0x7fab6f0dca10>"
            ]
          },
          "metadata": {
            "tags": []
          },
          "execution_count": 90
        },
        {
          "output_type": "display_data",
          "data": {
            "image/png": "[encoded data removed]",
            "text/plain": [
              "<Figure size 720x720 with 20 Axes>"
            ]
          },
          "metadata": {
            "tags": [],
            "needs_background": "light"
          }
        }
      ]
    },
    {
      "cell_type": "markdown",
      "metadata": {
        "id": "IZT8gT1FQE_i"
      },
      "source": [
        "##### **Observations:**\n",
        "---\n",
        "\n",
        "**Strong correlations:**\n",
        "\n",
        "*   n_student and pretest (-0.620785)\n",
        "*   n_student and posttest(-0.615305)\n",
        "*   pretest and posttest (0.971658)\n",
        "\n",
        "**Weak correlations:**\n",
        "\n",
        "*   score_improvement and pretest (-0.203785)\n",
        "\n",
        "---\n",
        "\n"
      ]
    },
    {
      "cell_type": "markdown",
      "metadata": {
        "id": "wpNuChfhbyDY"
      },
      "source": [
        "##### **Pearson Correlation Tests:**"
      ]
    },
    {
      "cell_type": "code",
      "metadata": {
        "colab": {
          "base_uri": "https://localhost:8080/"
        },
        "id": "x494JF0QUSQV",
        "outputId": "0387cd0d-a4c4-46b2-fd14-83760a98651c"
      },
      "source": [
        "# Pearson correlation test for \"n_student\" and \"pretest\"\n",
        "stats.pearsonr(experimental['n_student'], experimental['pretest'])"
      ],
      "execution_count": null,
      "outputs": [
        {
          "output_type": "execute_result",
          "data": {
            "text/plain": [
              "(-0.6207853753600057, 3.560628046203072e-82)"
            ]
          },
          "metadata": {
            "tags": []
          },
          "execution_count": 91
        }
      ]
    },
    {
      "cell_type": "code",
      "metadata": {
        "colab": {
          "base_uri": "https://localhost:8080/"
        },
        "id": "wpunmxdYVCCz",
        "outputId": "046e2600-d2e4-4e84-f07d-79fea956d549"
      },
      "source": [
        "# Pearson correlation test for \"n_student\" and \"posttest\"\n",
        "stats.pearsonr(experimental['n_student'], experimental['posttest'])"
      ],
      "execution_count": null,
      "outputs": [
        {
          "output_type": "execute_result",
          "data": {
            "text/plain": [
              "(-0.6153052519510168, 2.2882081410886734e-80)"
            ]
          },
          "metadata": {
            "tags": []
          },
          "execution_count": 92
        }
      ]
    },
    {
      "cell_type": "code",
      "metadata": {
        "colab": {
          "base_uri": "https://localhost:8080/"
        },
        "id": "GgMZmb0hVJU-",
        "outputId": "0ad657d6-a810-4177-ddae-331a0febf54d"
      },
      "source": [
        "# Pearson correlation test for \"pretest\" and \"postest\"\n",
        "stats.pearsonr(experimental['pretest'], experimental['posttest'])"
      ],
      "execution_count": null,
      "outputs": [
        {
          "output_type": "execute_result",
          "data": {
            "text/plain": [
              "(0.9716580413570177, 0.0)"
            ]
          },
          "metadata": {
            "tags": []
          },
          "execution_count": 94
        }
      ]
    },
    {
      "cell_type": "markdown",
      "metadata": {
        "id": "8zojRBZRVVyS"
      },
      "source": [
        "---\n",
        "\n",
        "With a **Pearson coefficient *r*** of **> 0.95**, we can say that test performances at both the beginning and end the year/trial are closely correlated.\n",
        "\n",
        "With **p values** of **< 0.05**, we can say that the number of students in the classroom is significantly negatively correlated with test performance.\n",
        "\n",
        "\n",
        "\n",
        "---\n",
        "\n",
        "\n"
      ]
    },
    {
      "cell_type": "code",
      "metadata": {
        "colab": {
          "base_uri": "https://localhost:8080/"
        },
        "id": "E8E99i4HV60p",
        "outputId": "c5122738-cb84-4e1b-e013-6548d90c0f97"
      },
      "source": [
        "# Pearson correlation test for \"score_improvement\" and \"pretest\"\n",
        "stats.pearsonr(experimental['score_improvement'], experimental['pretest'])"
      ],
      "execution_count": null,
      "outputs": [
        {
          "output_type": "execute_result",
          "data": {
            "text/plain": [
              "(-0.20378515519188448, 1.4421580910262455e-08)"
            ]
          },
          "metadata": {
            "tags": []
          },
          "execution_count": 95
        }
      ]
    },
    {
      "cell_type": "markdown",
      "metadata": {
        "id": "IlBt4ZnkfB-d"
      },
      "source": [
        "---\n",
        "\n",
        "With a **p value** of **< 0.05**, we can say that test score improment is significantly negatively correlated with pre-year-test scores.\n",
        "\n",
        "---\n",
        "\n",
        "\n"
      ]
    },
    {
      "cell_type": "code",
      "metadata": {
        "colab": {
          "base_uri": "https://localhost:8080/"
        },
        "id": "GiMqDXmecJtL",
        "outputId": "a10e9122-4f07-48f6-af68-4012905174be"
      },
      "source": [
        "# Pearson correlation test for \"score_improvement\" and \"n_student\"\n",
        "stats.pearsonr(experimental['score_improvement'], experimental['n_student'])"
      ],
      "execution_count": null,
      "outputs": [
        {
          "output_type": "execute_result",
          "data": {
            "text/plain": [
              "(0.07633594916774893, 0.035374631278120405)"
            ]
          },
          "metadata": {
            "tags": []
          },
          "execution_count": 96
        }
      ]
    },
    {
      "cell_type": "markdown",
      "metadata": {
        "id": "6xt-pzu5f2OT"
      },
      "source": [
        "---\n",
        "\n",
        "With a **p value** of **< 0.05**, we can say that test score improvement is significantly correlated with the number of students in the classroom.\n",
        "\n",
        "---"
      ]
    },
    {
      "cell_type": "markdown",
      "metadata": {
        "id": "nGmJt1legHRJ"
      },
      "source": [
        "# **Final Observations**\n",
        "\n",
        "\n",
        "Students benefited significantly under Experimental Method in terms of higher test score improvements.\n",
        "\n",
        "Students of varying school settings, genders, and reduced/free lunch eligibilities experienced Experimental Method's benefit all the same.\n",
        "\n",
        "Public school attendees, and those from larger classrooms saw greater benefits than their peers from non-public schools and smaller classroom sizes.\n",
        "\n",
        "Students who were behind at the beginning of the year also saw greater benefits.\n",
        "\n",
        "<br>\n",
        "\n",
        "---\n",
        "\n",
        "<br>\n",
        "\n",
        "#### **My recommentation: A blanket implementation of Experimental Method over the entire district.**\n",
        "\n",
        "Although there were slight variations between student groups in terms of benefit intensity, every student group were significantly better off than their control group peers. "
      ]
    }
  ]
}